{
 "cells": [
  {
   "cell_type": "code",
   "execution_count": 19,
   "metadata": {},
   "outputs": [],
   "source": [
    "import tensorflow as tf\n",
    "import matplotlib.pyplot as plt\n",
    "from scipy import misc\n",
    "import cv2\n",
    "import numpy as np\n",
    "import facenet\n",
    "import os\n",
    "import time\n",
    "import pickle\n",
    "import sys\n",
    "img_path='../test_data/yannlecun22.jpeg'\n",
    "modeldir = '../models/20170511-185253.pb'\n",
    "classifier_filename = '../models/classifer.pkl'\n",
    "face_cascade = cv2.CascadeClassifier('../models/haarcascade_frontalface_default.xml')\n",
    "train_img=\"../data\"\n",
    "%matplotlib inline"
   ]
  },
  {
   "cell_type": "code",
   "execution_count": 20,
   "metadata": {},
   "outputs": [
    {
     "name": "stdout",
     "output_type": "stream",
     "text": [
      "Loading feature extraction model\n",
      "Model filename: ../models/20170511-185253.pb\n",
      "Start Recognition!\n",
      "(159, 318)\n",
      "(102, 102, 3)\n",
      "[[0.04883094 0.03544902 0.91572004]]\n",
      "yanlecun\n"
     ]
    }
   ],
   "source": [
    "font = cv2.FONT_HERSHEY_SIMPLEX\n",
    "with tf.Graph().as_default():\n",
    "    gpu_options = tf.GPUOptions(per_process_gpu_memory_fraction=0.6)\n",
    "    sess = tf.Session(config=tf.ConfigProto(gpu_options=gpu_options, log_device_placement=False))\n",
    "    with sess.as_default():\n",
    "        image_size = 182\n",
    "        input_image_size = 160\n",
    "        \n",
    "        HumanNames = os.listdir(train_img)\n",
    "        HumanNames.sort()\n",
    "        \n",
    "        print('Loading feature extraction model')\n",
    "        facenet.load_model(modeldir)\n",
    "\n",
    "        images_placeholder = tf.get_default_graph().get_tensor_by_name(\"input:0\")\n",
    "        embeddings = tf.get_default_graph().get_tensor_by_name(\"embeddings:0\")\n",
    "        phase_train_placeholder = tf.get_default_graph().get_tensor_by_name(\"phase_train:0\")\n",
    "        embedding_size = embeddings.get_shape()[1]\n",
    "\n",
    "        classifier_filename_exp = os.path.expanduser(classifier_filename)\n",
    "        with open(classifier_filename_exp, 'rb') as infile:\n",
    "            (model, class_names) = pickle.load(infile,encoding='latin1')\n",
    "        print('Start Recognition!')\n",
    "        prevTime = 0\n",
    "        frame = cv2.imread(img_path,0)\n",
    "        frame = facenet.to_rgb(frame)          \n",
    "        emb_array = np.zeros((1, embedding_size))\n",
    "        image = frame\n",
    "        gray = cv2.cvtColor(image, cv2.COLOR_BGR2GRAY)\n",
    "        print(gray.shape)\n",
    "        faces = face_cascade.detectMultiScale(gray, 1.3, 5)\n",
    "        for (x,y,w,h) in faces:\n",
    "            roi_gray = gray[y:y+h, x:x+w]\n",
    "            roi_color = image[y:y+h, x:x+w]\n",
    "            final_image = cv2.rectangle(image,(x,y),(x+w,y+h),(255,0,0),2)\n",
    "        print(roi_color.shape)\n",
    "        crop_face = cv2.resize(roi_color, (160, 160))\n",
    "        crop_face = cv2.cvtColor(crop_face, cv2.COLOR_BGR2RGB)\n",
    "        crop_face = crop_face.reshape(-1,input_image_size,input_image_size,3)\n",
    "        \n",
    "        crop_face = facenet.flip(crop_face, False)\n",
    "        crop_face = facenet.prewhiten(crop_face)                 \n",
    "        feed_dict = {images_placeholder: crop_face, phase_train_placeholder: False}\n",
    "        emb_array[0, :] = sess.run(embeddings, feed_dict=feed_dict)\n",
    "        predictions = model.predict_proba(emb_array)\n",
    "        print(predictions)\n",
    "        print(HumanNames[predictions.argmax()])\n",
    "        cv2.putText(image,HumanNames[predictions.argmax()], (x,y+h+15), cv2.FONT_HERSHEY_SIMPLEX, .5, 255)"
   ]
  },
  {
   "cell_type": "code",
   "execution_count": null,
   "metadata": {},
   "outputs": [],
   "source": []
  },
  {
   "cell_type": "code",
   "execution_count": null,
   "metadata": {},
   "outputs": [],
   "source": []
  }
 ],
 "metadata": {
  "kernelspec": {
   "display_name": "Python 3",
   "language": "python",
   "name": "python3"
  },
  "language_info": {
   "codemirror_mode": {
    "name": "ipython",
    "version": 3
   },
   "file_extension": ".py",
   "mimetype": "text/x-python",
   "name": "python",
   "nbconvert_exporter": "python",
   "pygments_lexer": "ipython3",
   "version": "3.7.1"
  }
 },
 "nbformat": 4,
 "nbformat_minor": 2
}
